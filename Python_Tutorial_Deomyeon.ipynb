{
  "nbformat": 4,
  "nbformat_minor": 0,
  "metadata": {
    "colab": {
      "name": "Python Tutorial-Deomyeon.ipynb",
      "provenance": [],
      "collapsed_sections": [],
      "authorship_tag": "ABX9TyOKTPmi/4CXFyOjQCqD8UYl",
      "include_colab_link": true
    },
    "kernelspec": {
      "name": "python3",
      "display_name": "Python 3"
    }
  },
  "cells": [
    {
      "cell_type": "markdown",
      "metadata": {
        "id": "view-in-github",
        "colab_type": "text"
      },
      "source": [
        "<a href=\"https://colab.research.google.com/github/Deomyeon/Python-Tutorial/blob/main/Python_Tutorial_Deomyeon.ipynb\" target=\"_parent\"><img src=\"https://colab.research.google.com/assets/colab-badge.svg\" alt=\"Open In Colab\"/></a>"
      ]
    },
    {
      "cell_type": "markdown",
      "metadata": {
        "id": "zzBq9zo5tD8n"
      },
      "source": [
        "# **파이썬의 기초를 공부해보자!**"
      ]
    },
    {
      "cell_type": "markdown",
      "metadata": {
        "id": "-wlkfLAzPkeA"
      },
      "source": [
        "# 변수(Variable)"
      ]
    },
    {
      "cell_type": "markdown",
      "metadata": {
        "id": "E4h61ubwPsG3"
      },
      "source": [
        "파이썬의 변수는 다른 언어에서와 다른 점이 조금 있습니다. 때문에 먼저 숙지하도록 하겠습니다."
      ]
    },
    {
      "cell_type": "markdown",
      "metadata": {
        "id": "IsAZT04000hG"
      },
      "source": [
        "파이썬에서 변수는 자료형을 이용해 선언하지 않습니다. 정의 하는 값에 따라 변수의 자료형이 정해집니다."
      ]
    },
    {
      "cell_type": "markdown",
      "metadata": {
        "id": "mYleeUnVtevi"
      },
      "source": [
        "# 1. print() 함수"
      ]
    },
    {
      "cell_type": "markdown",
      "metadata": {
        "id": "KxEZlqWnPzdL"
      },
      "source": [
        ""
      ]
    },
    {
      "cell_type": "markdown",
      "metadata": {
        "id": "SmMh93F-wZZ8"
      },
      "source": [
        "print() 함수는 입력된 매개변수의 값을 콘솔에 출력해줍니다."
      ]
    },
    {
      "cell_type": "code",
      "metadata": {
        "id": "D-INK7etuFKK"
      },
      "source": [
        "str = \"Hello World!\"\n",
        "print(str)"
      ],
      "execution_count": null,
      "outputs": []
    },
    {
      "cell_type": "markdown",
      "metadata": {
        "id": "3U8_1zoUww8b"
      },
      "source": [
        "또한, 매개변수를 여럿 넣을 경우엔 한 칸씩 띄어 출력됩니다."
      ]
    },
    {
      "cell_type": "code",
      "metadata": {
        "id": "TIaHs-mhvP6w"
      },
      "source": [
        "str1 = \"Hello\"\n",
        "str2 = \"World!\"\n",
        "print(str1, str2)"
      ],
      "execution_count": null,
      "outputs": []
    },
    {
      "cell_type": "markdown",
      "metadata": {
        "id": "9xpjRH9qxGSn"
      },
      "source": [
        "파이썬은 print() 함수를 사용하지 않더라도 자료를 출력 할 수가 있습니다."
      ]
    },
    {
      "cell_type": "code",
      "metadata": {
        "id": "XyK5Y1ChxXTs"
      },
      "source": [
        "\"Hello World!\""
      ],
      "execution_count": null,
      "outputs": []
    },
    {
      "cell_type": "markdown",
      "metadata": {
        "id": "UnuhFzaDyUXO"
      },
      "source": [
        "# 1.1 type() 함수"
      ]
    },
    {
      "cell_type": "markdown",
      "metadata": {
        "id": "WZjd3jI-y2B4"
      },
      "source": [
        "type() 함수는 입력된 매개변수의 자료형을 출력하는 함수입니다."
      ]
    },
    {
      "cell_type": "code",
      "metadata": {
        "id": "3i-0SQinzMOy"
      },
      "source": [
        "type(10)"
      ],
      "execution_count": null,
      "outputs": []
    },
    {
      "cell_type": "code",
      "metadata": {
        "id": "MdOlkpGlzYkl"
      },
      "source": [
        "type(\"Hello World!\")"
      ],
      "execution_count": null,
      "outputs": []
    },
    {
      "cell_type": "markdown",
      "metadata": {
        "id": "H28DRggs1zmV"
      },
      "source": [
        "type() 함수는 한 개의 매개변수만을 입력해야 합니다."
      ]
    },
    {
      "cell_type": "markdown",
      "metadata": {
        "id": "i8gGgqLV1hdC"
      },
      "source": [
        "# 1.2. input() 함수"
      ]
    },
    {
      "cell_type": "markdown",
      "metadata": {
        "id": "3menDVpz1rCj"
      },
      "source": [
        "input() 함수는 콘솔을 통해 문자열을 입력받는 함수입니다."
      ]
    },
    {
      "cell_type": "code",
      "metadata": {
        "id": "WhAmw0P-1w-m"
      },
      "source": [
        "str = input()\n",
        "print(str)"
      ],
      "execution_count": null,
      "outputs": []
    },
    {
      "cell_type": "markdown",
      "metadata": {
        "id": "JHGBNqWf2Hnn"
      },
      "source": [
        "매개변수로 출력 할 내용을 입력하는 것도 가능합니다."
      ]
    },
    {
      "cell_type": "code",
      "metadata": {
        "id": "N3wPRlJ62cOj"
      },
      "source": [
        "str = input(\"입력하세요. \")\n",
        "print(str)"
      ],
      "execution_count": null,
      "outputs": []
    },
    {
      "cell_type": "markdown",
      "metadata": {
        "id": "0OiosJpa2kjN"
      },
      "source": [
        "# 2. 문자열(String)"
      ]
    },
    {
      "cell_type": "markdown",
      "metadata": {
        "id": "HAunr8K72s40"
      },
      "source": [
        "다른 언어와 마찬가지로 문자열 변수는 배열로 연결되기 때문에 문자열[] 형식을 이용할 수 있습니다."
      ]
    },
    {
      "cell_type": "code",
      "metadata": {
        "id": "pgIhGlmn2sTF"
      },
      "source": [
        "print(\"Hello World!\"[0])"
      ],
      "execution_count": null,
      "outputs": []
    },
    {
      "cell_type": "markdown",
      "metadata": {
        "id": "GqcazWVK3NUI"
      },
      "source": [
        "문자열[a:b] 파이썬에서 볼 수 있는 다소 특이한 연산자 입니다. a에서 b까지의 문자열을 반환합니다."
      ]
    },
    {
      "cell_type": "markdown",
      "metadata": {
        "id": "LASaECSF45F3"
      },
      "source": [
        "(a > 0)&&(b > 0)&&(a < b) 인 경우"
      ]
    },
    {
      "cell_type": "code",
      "metadata": {
        "id": "SAw8iEut35-o"
      },
      "source": [
        "print(\"Hello World!\"[0:4])"
      ],
      "execution_count": null,
      "outputs": []
    },
    {
      "cell_type": "markdown",
      "metadata": {
        "id": "5utqBXYL47mM"
      },
      "source": [
        "(a > 0)&&(b > 0)&&((a == b)||(a > b)) 인 경우"
      ]
    },
    {
      "cell_type": "code",
      "metadata": {
        "id": "cOxuImL54MLP"
      },
      "source": [
        "print(\"Hello World!\"[0:0])"
      ],
      "execution_count": null,
      "outputs": []
    },
    {
      "cell_type": "code",
      "metadata": {
        "id": "TPGhHjhJ5G_3"
      },
      "source": [
        "print(\"Hello World!\"[4:0])"
      ],
      "execution_count": null,
      "outputs": []
    },
    {
      "cell_type": "markdown",
      "metadata": {
        "id": "Gyy47iph5y04"
      },
      "source": [
        "a, b의 값이 음수인 경우엔 문자열의 뒤에서 부터 읽어옵니다."
      ]
    },
    {
      "cell_type": "markdown",
      "metadata": {
        "id": "e6IjM6OC5f_s"
      },
      "source": [
        "(a < 0)&&(b < 0)&&((a > b)(a == b)) 인 경우"
      ]
    },
    {
      "cell_type": "code",
      "metadata": {
        "id": "2orfmkyu4M_0"
      },
      "source": [
        "print(\"Hello World!\"[-1:-4])"
      ],
      "execution_count": null,
      "outputs": []
    },
    {
      "cell_type": "code",
      "metadata": {
        "id": "JvRQRXEG6F1o"
      },
      "source": [
        "print(\"Hello World!\"[-1:-1])"
      ],
      "execution_count": null,
      "outputs": []
    },
    {
      "cell_type": "markdown",
      "metadata": {
        "id": "hQuEWh0x6OMn"
      },
      "source": [
        "(a < 0)&&(b < 0)&&(a < b) 인 경우"
      ]
    },
    {
      "cell_type": "code",
      "metadata": {
        "id": "JvwJ7vjl6TNP"
      },
      "source": [
        "print(\"Hello World!\"[-4:-1])"
      ],
      "execution_count": null,
      "outputs": []
    },
    {
      "cell_type": "markdown",
      "metadata": {
        "id": "GQ3VLUFy7SOA"
      },
      "source": [
        "(a||b) ==  　(null)"
      ]
    },
    {
      "cell_type": "code",
      "metadata": {
        "id": "MO9CCcVV7hXA"
      },
      "source": [
        "print(\"Hello World!\"[4:])"
      ],
      "execution_count": null,
      "outputs": []
    },
    {
      "cell_type": "code",
      "metadata": {
        "id": "wIiVC40D7v2i"
      },
      "source": [
        "print(\"Hello World!\"[:6])"
      ],
      "execution_count": null,
      "outputs": []
    },
    {
      "cell_type": "markdown",
      "metadata": {
        "id": "1A_hXzyj7yro"
      },
      "source": [
        "(a&&b) ==  　(null)"
      ]
    },
    {
      "cell_type": "code",
      "metadata": {
        "id": "bNqal_zk7qtR"
      },
      "source": [
        "print(\"Hello World!\"[:])"
      ],
      "execution_count": null,
      "outputs": []
    },
    {
      "cell_type": "markdown",
      "metadata": {
        "id": "pFil2Dxw6aVE"
      },
      "source": [
        "# 2.1 len() 함수"
      ]
    },
    {
      "cell_type": "markdown",
      "metadata": {
        "id": "wHRP5SQp6mgy"
      },
      "source": [
        "len() 함수는 입력된 매개변수(문자열)의 길이를 반환합니다."
      ]
    },
    {
      "cell_type": "code",
      "metadata": {
        "id": "E73RcmA26u9E"
      },
      "source": [
        "print(len(\"Hello World!\"))"
      ],
      "execution_count": null,
      "outputs": []
    },
    {
      "cell_type": "markdown",
      "metadata": {
        "id": "peldxEdb66rs"
      },
      "source": [
        "물론 print() 함수를 사용하지 않더라도 표현식으로서 동작합니다."
      ]
    },
    {
      "cell_type": "code",
      "metadata": {
        "id": "mPMQmE6t7DrS"
      },
      "source": [
        "len(\"Hello World!\")"
      ],
      "execution_count": null,
      "outputs": []
    },
    {
      "cell_type": "markdown",
      "metadata": {
        "id": "3d3RL96w6ft-"
      },
      "source": [
        "# 2.2 str형 메소드"
      ]
    },
    {
      "cell_type": "markdown",
      "metadata": {
        "id": "UpztUXOq6rZZ"
      },
      "source": [
        "**2.2.2 str.format() 함수**"
      ]
    },
    {
      "cell_type": "markdown",
      "metadata": {
        "id": "QwwX8Ghm62ue"
      },
      "source": [
        "str.format() 함수는 문자열 내의 {}(중괄호)에 매개변수의 값을 삽입합니다."
      ]
    },
    {
      "cell_type": "code",
      "metadata": {
        "id": "wUhU25uF7jw1"
      },
      "source": [
        "\"안녕하세요 저는 {} 입니다.\".format(\"개발자\")"
      ],
      "execution_count": null,
      "outputs": []
    },
    {
      "cell_type": "markdown",
      "metadata": {
        "id": "WVx-P-Jy7w2A"
      },
      "source": [
        "문자열 내의 {}(중괄호)의 개수가 매개변수의 개수 보다 많으면 오류가 발생합니다."
      ]
    },
    {
      "cell_type": "code",
      "metadata": {
        "id": "DfJgMH5W78eC"
      },
      "source": [
        "name = input(\"당신의 이름은? \")\n",
        "age = input(\"당신의 나이는? \")\n",
        "print(\"안녕하세요. 저는 {}살 {} 입니다.\".format(age, name))"
      ],
      "execution_count": null,
      "outputs": []
    },
    {
      "cell_type": "markdown",
      "metadata": {
        "id": "jDVrh3l18XqG"
      },
      "source": [
        "**2.2.3 str.upper() 함수와 str.lower() 함수**"
      ]
    },
    {
      "cell_type": "markdown",
      "metadata": {
        "id": "fb7Bfd_B8q0H"
      },
      "source": [
        "str.upper() 함수는 문자열의 영문자를 대문자로 변환해줍니다.\n"
      ]
    },
    {
      "cell_type": "code",
      "metadata": {
        "id": "Q5ZG8cS_88_V"
      },
      "source": [
        "\"Hello World!\".upper()"
      ],
      "execution_count": null,
      "outputs": []
    },
    {
      "cell_type": "markdown",
      "metadata": {
        "id": "tQyHB2lf81Vp"
      },
      "source": [
        "str.lower() 함수는 문자열의 영문자를 대문자로 변환해줍니다."
      ]
    },
    {
      "cell_type": "code",
      "metadata": {
        "id": "aOe549w19Cq2"
      },
      "source": [
        "\"Hello World!\".lower()"
      ],
      "execution_count": null,
      "outputs": []
    },
    {
      "cell_type": "markdown",
      "metadata": {
        "id": "iy_xqHyu9Q5X"
      },
      "source": [
        "**2.2.4 str.strip() 함수**"
      ]
    },
    {
      "cell_type": "markdown",
      "metadata": {
        "id": "UT5VJJEV-A9J"
      },
      "source": [
        "str.strip() 함수는 매개변수로 입력된 문자열을 왼쪽이나 오른쪽 부터 제거합니다."
      ]
    },
    {
      "cell_type": "markdown",
      "metadata": {
        "id": "W6qGiRRL-LLI"
      },
      "source": [
        "매개변수를 입력하지 않으면 공백이 소멸됩니다."
      ]
    },
    {
      "cell_type": "code",
      "metadata": {
        "id": "IRdWwXeB9kK8"
      },
      "source": [
        "\"   Hello World!  \".strip()"
      ],
      "execution_count": null,
      "outputs": []
    },
    {
      "cell_type": "code",
      "metadata": {
        "id": "TP8U3Xc-_KUq"
      },
      "source": [
        "str = input(\"삭제 할 문자열을 입력하세요. \")\n",
        "\"안녕하세요 반가워요.\".strip(str)"
      ],
      "execution_count": null,
      "outputs": []
    },
    {
      "cell_type": "markdown",
      "metadata": {
        "id": "hsDHmud3-2dX"
      },
      "source": [
        "str.lstrip() 함수는 매개변수로 입력된 문자열을 왼쪽에서 부터 제거합니다."
      ]
    },
    {
      "cell_type": "code",
      "metadata": {
        "id": "CJKORxzD_5Xj"
      },
      "source": [
        "\"   Hello World!  \".lstrip()"
      ],
      "execution_count": null,
      "outputs": []
    },
    {
      "cell_type": "markdown",
      "metadata": {
        "id": "TRJaAeh8_Fpo"
      },
      "source": [
        "str.rstrip() 함수는 매개변수로 입력된 문자열을 오른쪽에서 부터 제거합니다."
      ]
    },
    {
      "cell_type": "code",
      "metadata": {
        "id": "0xTw2Wz5_6rm"
      },
      "source": [
        "\"   Hello World!  \".rstrip()"
      ],
      "execution_count": null,
      "outputs": []
    },
    {
      "cell_type": "markdown",
      "metadata": {
        "id": "h4MSOuEvAIyO"
      },
      "source": [
        "**2.2.5 str.find() 함수**"
      ]
    },
    {
      "cell_type": "markdown",
      "metadata": {
        "id": "x7ExIWEbAMo8"
      },
      "source": [
        "str.find() 함수는 문자열에서 매개변수로 입력된 문자열이 시작된 위치를 왼쪽 부터 찾아 반환합니다."
      ]
    },
    {
      "cell_type": "code",
      "metadata": {
        "id": "GJ2h7HI7AU1-"
      },
      "source": [
        "\"Hello World!\".find(\"Wor\")"
      ],
      "execution_count": null,
      "outputs": []
    },
    {
      "cell_type": "markdown",
      "metadata": {
        "id": "YyZxKRc6Ag9r"
      },
      "source": [
        "str.rfind() 함수는 문자열에서 매개변수로 입력된 문자열이 시작된 위치를 오른쪽 부터 찾아 반환합니다."
      ]
    },
    {
      "cell_type": "code",
      "metadata": {
        "id": "8oRLLJljAtDq"
      },
      "source": [
        "\"Hello World!\".rfind(\"Wor\")"
      ],
      "execution_count": null,
      "outputs": []
    },
    {
      "cell_type": "markdown",
      "metadata": {
        "id": "mnFEDPRZCpx5"
      },
      "source": [
        "**2.2.6 str.split() 함수**"
      ]
    },
    {
      "cell_type": "markdown",
      "metadata": {
        "id": "sFXBrx8rC6vV"
      },
      "source": [
        "str.split() 함수는 문자열을 매개변수로 입력된 문자열로 잘라 배열로 반환합니다."
      ]
    },
    {
      "cell_type": "code",
      "metadata": {
        "id": "xVs3ze6cDH4U"
      },
      "source": [
        "\"아 치킨 먹고 싶다.\".split(\" \")"
      ],
      "execution_count": null,
      "outputs": []
    },
    {
      "cell_type": "code",
      "metadata": {
        "id": "5eWnTGsJDQou"
      },
      "source": [
        "\"Hello World!\".split(\"o\")"
      ],
      "execution_count": null,
      "outputs": []
    },
    {
      "cell_type": "markdown",
      "metadata": {
        "id": "vAcI5fQABlFr"
      },
      "source": [
        "# 2.3 in 연산자"
      ]
    },
    {
      "cell_type": "markdown",
      "metadata": {
        "id": "2-5xKw9cCDtR"
      },
      "source": [
        "in 연산자는 a in b 처럼 사용하며, a가 b에 있는 가? 를 논리 자료형으로 반환합니다."
      ]
    },
    {
      "cell_type": "code",
      "metadata": {
        "id": "yl5KXHQGCZfg"
      },
      "source": [
        "\"안녕\" in \"안녕하세요\""
      ],
      "execution_count": null,
      "outputs": []
    },
    {
      "cell_type": "markdown",
      "metadata": {
        "id": "ahz_Ali59SEb"
      },
      "source": [
        "# 3. 수(Number)"
      ]
    },
    {
      "cell_type": "markdown",
      "metadata": {
        "id": "T4E52Rbp9ceY"
      },
      "source": [
        "파이썬에서는 통계를 위해서 인지 실수 뿐 만 아니라 허수 또한, 지원합니다."
      ]
    },
    {
      "cell_type": "markdown",
      "metadata": {
        "id": "pvdTX9z6BfDG"
      },
      "source": [
        ""
      ]
    },
    {
      "cell_type": "markdown",
      "metadata": {
        "id": "BKqqfmSG93mM"
      },
      "source": [
        "보통의 언어에서 지원하는 범위는 유리수까지 입니다. 때문에 라이브러리를 통해 실수 범위까지 사용합니다."
      ]
    },
    {
      "cell_type": "markdown",
      "metadata": {
        "id": "zh1yTPMp-HKc"
      },
      "source": [
        "파이썬의 경우엔 자체적으로 허수까지 지원하는 장점이 있습니다."
      ]
    },
    {
      "cell_type": "markdown",
      "metadata": {
        "id": "WbuKfyxR-bxv"
      },
      "source": [
        "대신 파이썬은 long이나 short, double 같은 자료형은 지원하지 않습니다."
      ]
    },
    {
      "cell_type": "markdown",
      "metadata": {
        "id": "RH-T9XPC_hEQ"
      },
      "source": [
        "**실수(Real Number)**"
      ]
    },
    {
      "cell_type": "markdown",
      "metadata": {
        "id": "tt6LGFb8-vM0"
      },
      "source": [
        "1. 정수 (int)"
      ]
    },
    {
      "cell_type": "code",
      "metadata": {
        "id": "y_YQ6e6-_DRS"
      },
      "source": [
        "print(49)"
      ],
      "execution_count": null,
      "outputs": []
    },
    {
      "cell_type": "code",
      "metadata": {
        "id": "v60HpxQs_Tzq"
      },
      "source": [
        "type(49)"
      ],
      "execution_count": null,
      "outputs": []
    },
    {
      "cell_type": "markdown",
      "metadata": {
        "id": "ZdwueHlf_FwO"
      },
      "source": [
        "2. 유리수 (float)\n",
        "\n"
      ]
    },
    {
      "cell_type": "code",
      "metadata": {
        "id": "Ysm2RwBc_ISf"
      },
      "source": [
        "print(43.56)"
      ],
      "execution_count": null,
      "outputs": []
    },
    {
      "cell_type": "code",
      "metadata": {
        "id": "ZORQtYZE_WoH"
      },
      "source": [
        "type(43.56)"
      ],
      "execution_count": null,
      "outputs": []
    },
    {
      "cell_type": "markdown",
      "metadata": {
        "id": "L6tGdxy4_pzw"
      },
      "source": [
        "**허수(Image Number)**"
      ]
    },
    {
      "cell_type": "markdown",
      "metadata": {
        "id": "plr_Y_jN_LJl"
      },
      "source": [
        "3. 허수 (image[complex])"
      ]
    },
    {
      "cell_type": "markdown",
      "metadata": {
        "id": "YEiOMfNXABez"
      },
      "source": [
        "허수는 복소수로서 표현됩니다."
      ]
    },
    {
      "cell_type": "code",
      "metadata": {
        "id": "A-TkZ_44-Oj3"
      },
      "source": [
        "print(24j)"
      ],
      "execution_count": null,
      "outputs": []
    },
    {
      "cell_type": "code",
      "metadata": {
        "id": "QPHRQ1P9_ZK1"
      },
      "source": [
        "type(24j)"
      ],
      "execution_count": null,
      "outputs": []
    },
    {
      "cell_type": "markdown",
      "metadata": {
        "id": "3Art6tCv_1y6"
      },
      "source": [
        "4. 복소수 (complex)"
      ]
    },
    {
      "cell_type": "code",
      "metadata": {
        "id": "KZIJP-Xh_3XV"
      },
      "source": [
        "print(32 + 5j)"
      ],
      "execution_count": null,
      "outputs": []
    },
    {
      "cell_type": "code",
      "metadata": {
        "id": "QJK7wFI5_-pm"
      },
      "source": [
        "type(32 + 5j)"
      ],
      "execution_count": null,
      "outputs": []
    },
    {
      "cell_type": "markdown",
      "metadata": {
        "id": "OoqsVTsM27Vk"
      },
      "source": [
        "# 3.1 자료형 변환 함수"
      ]
    },
    {
      "cell_type": "markdown",
      "metadata": {
        "id": "sreeFo054QUD"
      },
      "source": [
        "**3.1.1 int() 함수**"
      ]
    },
    {
      "cell_type": "markdown",
      "metadata": {
        "id": "1YFilU314s4R"
      },
      "source": [
        "int() 함수는 매개변수로 입력된 실수 값을 정수값으로 변환하여 반환합니다."
      ]
    },
    {
      "cell_type": "code",
      "metadata": {
        "id": "fvWD0jtM47Eg"
      },
      "source": [
        "int(4.25)"
      ],
      "execution_count": null,
      "outputs": []
    },
    {
      "cell_type": "markdown",
      "metadata": {
        "id": "0OfW5i545C06"
      },
      "source": [
        "다음과 같이 허수를 변환하려 할 시, 복소수형을 정수형으로 변환 할 수 없다는 오류가 발생합니다."
      ]
    },
    {
      "cell_type": "code",
      "metadata": {
        "id": "dcGucnM94-Wo"
      },
      "source": [
        "int(42 + 3j)"
      ],
      "execution_count": null,
      "outputs": []
    },
    {
      "cell_type": "markdown",
      "metadata": {
        "id": "kMLFKreI4UGZ"
      },
      "source": [
        "**3.1.2 float() 함수**"
      ]
    },
    {
      "cell_type": "markdown",
      "metadata": {
        "id": "w-ZgvQLS5gfV"
      },
      "source": [
        "float() 함수는 매개변수로 입력된 실수값을 부동소수점값으로 변환하여 반환합니다."
      ]
    },
    {
      "cell_type": "code",
      "metadata": {
        "id": "BgluPQ615pht"
      },
      "source": [
        "float(245)"
      ],
      "execution_count": null,
      "outputs": []
    },
    {
      "cell_type": "markdown",
      "metadata": {
        "id": "CCKqOXb55tsr"
      },
      "source": [
        "다음과 같이 허수를 변환하려 할 시, 복소수형을 실수형으로 변환 할 수 없다는 오류가 발생합니다."
      ]
    },
    {
      "cell_type": "code",
      "metadata": {
        "id": "Pko1rcRy55dj"
      },
      "source": [
        "float(34 + 56j)"
      ],
      "execution_count": null,
      "outputs": []
    },
    {
      "cell_type": "markdown",
      "metadata": {
        "id": "w_UIDDB34doT"
      },
      "source": [
        "**3.1.3 complex() 함수**"
      ]
    },
    {
      "cell_type": "markdown",
      "metadata": {
        "id": "Z4w-ZZBt5-B3"
      },
      "source": [
        "complex() 함수는 매개변수로 입력된 실수값을 복소수값으로 변환하여 반환합니다."
      ]
    },
    {
      "cell_type": "code",
      "metadata": {
        "id": "iWxJ-DV16NeI"
      },
      "source": [
        "complex(254)"
      ],
      "execution_count": null,
      "outputs": []
    },
    {
      "cell_type": "markdown",
      "metadata": {
        "id": "gYmpvyNTMGka"
      },
      "source": [
        "# 3.2 제곱 연산자 **"
      ]
    },
    {
      "cell_type": "markdown",
      "metadata": {
        "id": "FH9Wp0RhMPr0"
      },
      "source": [
        "a ** b, a의 b승을 반환합니다."
      ]
    },
    {
      "cell_type": "code",
      "metadata": {
        "id": "TKlttr_1MKLB"
      },
      "source": [
        "print (2**3)"
      ],
      "execution_count": null,
      "outputs": []
    },
    {
      "cell_type": "markdown",
      "metadata": {
        "id": "G-bmfLT3Mw62"
      },
      "source": [
        "# 3.3 몫과 나머지"
      ]
    },
    {
      "cell_type": "markdown",
      "metadata": {
        "id": "uGlMNe_VM00e"
      },
      "source": [
        "프로그래밍 언어에서 나누기는 / 연산자를 통해 이루어 집니다."
      ]
    },
    {
      "cell_type": "markdown",
      "metadata": {
        "id": "xfna-C9aNAuH"
      },
      "source": [
        "/ 연산자는 나머지가 0 일 때의 몫입니다."
      ]
    },
    {
      "cell_type": "code",
      "metadata": {
        "id": "IpqhI8kdNAEC"
      },
      "source": [
        "print(7 / 3)"
      ],
      "execution_count": null,
      "outputs": []
    },
    {
      "cell_type": "markdown",
      "metadata": {
        "id": "5CsFAcAVNSQB"
      },
      "source": [
        "파이썬에서는 나머지가 존재하는 상태의 몫을 구할 수 있습니다."
      ]
    },
    {
      "cell_type": "markdown",
      "metadata": {
        "id": "b7GkFVQ5Nfn8"
      },
      "source": [
        "그 방법이 // 연산자를 사용하는 것 입니다."
      ]
    },
    {
      "cell_type": "code",
      "metadata": {
        "id": "B3e7GIOlNirO"
      },
      "source": [
        "print(7 // 3)"
      ],
      "execution_count": null,
      "outputs": []
    },
    {
      "cell_type": "markdown",
      "metadata": {
        "id": "pR72IAD3NnZO"
      },
      "source": [
        "우리는 나머지 또한, 필요할 것입니다. 나머지는 % 연산자를 이용하여 구할 수 있습니다."
      ]
    },
    {
      "cell_type": "code",
      "metadata": {
        "id": "6wTPX24uNzVN"
      },
      "source": [
        "print(7 % 3)"
      ],
      "execution_count": null,
      "outputs": []
    },
    {
      "cell_type": "markdown",
      "metadata": {
        "id": "MUjSjI87D6Qv"
      },
      "source": [
        "# 4. 논리(Boolean)"
      ]
    },
    {
      "cell_type": "markdown",
      "metadata": {
        "id": "H-fG4jN4EC4v"
      },
      "source": [
        "논리 자료형은 다른 언어와 마찬가지로 참과 거짓으로 나뉩니다. 다만, 파이썬에서 다른 점은 참은 True 거짓은 False 라는 것입니다."
      ]
    },
    {
      "cell_type": "code",
      "metadata": {
        "id": "JJpb2aJWER1f"
      },
      "source": [
        "# 10은 100과 같은가?\n",
        "10 == 100"
      ],
      "execution_count": null,
      "outputs": []
    },
    {
      "cell_type": "markdown",
      "metadata": {
        "id": "-Bv2b51-Emeu"
      },
      "source": [
        "파이썬에서는 논리연산자가 다른 언어와 다릅니다."
      ]
    },
    {
      "cell_type": "markdown",
      "metadata": {
        "id": "tUrzs8-tEyXn"
      },
      "source": [
        "다른 언어에서의 논리연산자는 키워드의 형태로 존재합니다.\n",
        "\n",
        "*   !(논리부정) 연산자는 not 연산자\n",
        "*   &&(논리곱) 연산자는 and 연산자\n",
        "*   ||(논리합) 연산자는 or 연산자\n",
        "\n",
        "\n",
        "\n"
      ]
    },
    {
      "cell_type": "code",
      "metadata": {
        "id": "xbFIl3vxFdQN"
      },
      "source": [
        "True and not False"
      ],
      "execution_count": null,
      "outputs": []
    },
    {
      "cell_type": "markdown",
      "metadata": {
        "id": "Ri-x0XLVF1tJ"
      },
      "source": [
        "# 4.1 조건문"
      ]
    },
    {
      "cell_type": "markdown",
      "metadata": {
        "id": "C9r2ps-zHxxO"
      },
      "source": [
        "**4.1.1 if 조건문**"
      ]
    },
    {
      "cell_type": "markdown",
      "metadata": {
        "id": "vkN2F7IIGD24"
      },
      "source": [
        "if 조건문은 조건이 만족할 시, 실행합니다."
      ]
    },
    {
      "cell_type": "code",
      "metadata": {
        "id": "ELFVFH-JGUpk"
      },
      "source": [
        "if 100 == 100:\n",
        "  print(True)"
      ],
      "execution_count": null,
      "outputs": []
    },
    {
      "cell_type": "code",
      "metadata": {
        "id": "Rwjc0kfNG6A2"
      },
      "source": [
        "num = input(\"정수를 입력 해주세요. : \")\n",
        "num = int(num)\n",
        "if num > 0:\n",
        "  print(\"양의 정수입니다.\")\n",
        "if num == 0:\n",
        "  print(\"0 입니다.\")\n",
        "if num < 0:\n",
        "  print(\"음의 정수입니다.\")"
      ],
      "execution_count": null,
      "outputs": []
    },
    {
      "cell_type": "markdown",
      "metadata": {
        "id": "wHdriFMCH0sy"
      },
      "source": [
        "**4.1.2 elif 조건문**"
      ]
    },
    {
      "cell_type": "markdown",
      "metadata": {
        "id": "A9tbR8LRIAG5"
      },
      "source": [
        "elif 조건문은 if 조건문과 연결되어 있으며, 앞의 조건문이 만족하지 않을 경우, 조건이 만족할 시, 실행합니다."
      ]
    },
    {
      "cell_type": "code",
      "metadata": {
        "id": "MINMhYlzIS3e"
      },
      "source": [
        "str = input(\"A 혹은 a를 입력해주세요. \")\n",
        "if str == \"A\":\n",
        "  print(\"대문자 A 입니다.\")\n",
        "elif str == \"a\":\n",
        "  print(\"소문자 a 입니다.\")"
      ],
      "execution_count": null,
      "outputs": []
    },
    {
      "cell_type": "markdown",
      "metadata": {
        "id": "ve9OoBejH5GT"
      },
      "source": [
        "**4.1.3 else 조건문**"
      ]
    },
    {
      "cell_type": "markdown",
      "metadata": {
        "id": "DdZBWGbbIrAv"
      },
      "source": [
        "else 조건문은 if 조건문과 연결되어 있으며, 앞의 모든 조건문도 만족하지 못할 시, 실행합니다."
      ]
    },
    {
      "cell_type": "code",
      "metadata": {
        "id": "eiPH7cvPI8wj"
      },
      "source": [
        "str = input(\"A 혹은 a를 입력해주세요. \")\n",
        "if str == \"A\":\n",
        "  print(\"대문자 A 입니다.\")\n",
        "elif str == \"a\":\n",
        "  print(\"소문자 a 입니다.\")\n",
        "else:\n",
        "  print(\"InputError: 입력이 잘못 되었습니다.\")"
      ],
      "execution_count": null,
      "outputs": []
    },
    {
      "cell_type": "markdown",
      "metadata": {
        "id": "vfr4FoPkJYmw"
      },
      "source": [
        "# 4.2 bool() 함수"
      ]
    },
    {
      "cell_type": "markdown",
      "metadata": {
        "id": "t3f98qYAJceh"
      },
      "source": [
        "bool() 함수는 매개변수로 입력된 None, 정수 혹은 컨테이너의 값에 따라 True 혹은 False를 반환합니다."
      ]
    },
    {
      "cell_type": "markdown",
      "metadata": {
        "id": "846AWAkkJ5lz"
      },
      "source": [
        "None 일 경우, False를 반환합니다."
      ]
    },
    {
      "cell_type": "code",
      "metadata": {
        "id": "KM3MIMtbJ9jY"
      },
      "source": [
        "bool(None)"
      ],
      "execution_count": null,
      "outputs": []
    },
    {
      "cell_type": "markdown",
      "metadata": {
        "id": "qDgvYzJCKAVW"
      },
      "source": [
        "정수는 0이 아닌 경우엔 True, 0인 경우엔 False를 반환합니다."
      ]
    },
    {
      "cell_type": "code",
      "metadata": {
        "id": "6Mp4iRpoKV4T"
      },
      "source": [
        "boolean = input(\"정수 입력 : \")\n",
        "boolean = int(boolean)\n",
        "bool(boolean)"
      ],
      "execution_count": null,
      "outputs": []
    },
    {
      "cell_type": "markdown",
      "metadata": {
        "id": "gBhFS8fZKj9s"
      },
      "source": [
        "조건으로서 다른 자료형을 사용할 때 bool() 함수를 사용하지 않을 경우, 컴파일러가 논리형으로 변환해줍니다."
      ]
    },
    {
      "cell_type": "code",
      "metadata": {
        "id": "OHWKyeLqKxcA"
      },
      "source": [
        "not None and True"
      ],
      "execution_count": null,
      "outputs": []
    },
    {
      "cell_type": "code",
      "metadata": {
        "id": "L9PmKIumLZiz"
      },
      "source": [
        "not 4 and True"
      ],
      "execution_count": null,
      "outputs": []
    },
    {
      "cell_type": "markdown",
      "metadata": {
        "id": "ikQmrVF3Lpyl"
      },
      "source": [
        "# 5. 리스트(List)"
      ]
    },
    {
      "cell_type": "markdown",
      "metadata": {
        "id": "TPjERYWpLw54"
      },
      "source": [
        "list는 자료형의 배열입니다. [](대괄호)에 원소를 대입, 참조 할 수 있습니다."
      ]
    },
    {
      "cell_type": "markdown",
      "metadata": {
        "id": "1BwXxk-NMEXj"
      },
      "source": [
        "파이썬에서는 서로 다른 자료형도 한 리스트에 저장 할 수 있습니다."
      ]
    },
    {
      "cell_type": "code",
      "metadata": {
        "id": "yCyjXnpgMLQR"
      },
      "source": [
        "[\"치킨\", \"오리\", 0, 1, True]"
      ],
      "execution_count": null,
      "outputs": []
    },
    {
      "cell_type": "markdown",
      "metadata": {
        "id": "6QBESRRfMTxG"
      },
      "source": [
        "리스트 에 리스트를 대입하는 것 또한 가능합니다."
      ]
    },
    {
      "cell_type": "code",
      "metadata": {
        "id": "x1c7C-CeMaoC"
      },
      "source": [
        "[[0, 1, 2], [3, 4, 5], 0, 1, True]"
      ],
      "execution_count": null,
      "outputs": []
    },
    {
      "cell_type": "markdown",
      "metadata": {
        "id": "sIs6SvO-MjBU"
      },
      "source": [
        "[](대괄호)에 정수를 입력하여 해당 정수 위치의 원소를 참조할 수 있습니다.  "
      ]
    },
    {
      "cell_type": "code",
      "metadata": {
        "id": "KpXYsKb2MiDs"
      },
      "source": [
        "List = [[\"안\", \"녕\"],[\"H\", \"I\"],[\"ハ\", \"ロ\"]]\n",
        "\n",
        "print(List[0][0])"
      ],
      "execution_count": null,
      "outputs": []
    },
    {
      "cell_type": "markdown",
      "metadata": {
        "id": "Tj1wpgysNUp4"
      },
      "source": [
        "# 5.1 list형 메소드"
      ]
    },
    {
      "cell_type": "markdown",
      "metadata": {
        "id": "y6YtEg5qNc68"
      },
      "source": [
        "**5.1.1 list.append() 함수**"
      ]
    },
    {
      "cell_type": "markdown",
      "metadata": {
        "id": "hQ6XxA59NkuL"
      },
      "source": [
        "**5.1.2 list.insert() 함수**"
      ]
    },
    {
      "cell_type": "markdown",
      "metadata": {
        "id": "DVMq5KdaNo0u"
      },
      "source": [
        "**5.1.3 list.extend() 함수**"
      ]
    },
    {
      "cell_type": "markdown",
      "metadata": {
        "id": "RkRrPSkZN0HJ"
      },
      "source": [
        "**5.1.4 list.clear() 함수**"
      ]
    },
    {
      "cell_type": "markdown",
      "metadata": {
        "id": "CaajPBWwOOew"
      },
      "source": [
        "**5.1.5 list.remove() 함수**"
      ]
    },
    {
      "cell_type": "markdown",
      "metadata": {
        "id": "XGsC3CCeOWla"
      },
      "source": [
        "**5.1.6 list.pop() 함수**"
      ]
    },
    {
      "cell_type": "markdown",
      "metadata": {
        "id": "Hi72RdQ-OjMA"
      },
      "source": [
        "# 5.2 del 연산자"
      ]
    },
    {
      "cell_type": "markdown",
      "metadata": {
        "id": "wCRR_sE1OnPA"
      },
      "source": [
        "del 연산자는 del list[int] 처럼 사용 할 수 있으며, 리스트의 해당 정수 위치에 있는 원소를 제거합니다."
      ]
    }
  ]
}